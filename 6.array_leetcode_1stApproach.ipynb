{
 "cells": [
  {
   "cell_type": "markdown",
   "id": "5bc3496b",
   "metadata": {},
   "source": [
    "# 1st Approach"
   ]
  },
  {
   "cell_type": "code",
   "execution_count": 1,
   "id": "6cfe62db",
   "metadata": {},
   "outputs": [
    {
     "name": "stdout",
     "output_type": "stream",
     "text": [
      "5\n"
     ]
    }
   ],
   "source": [
    "from array import *\n",
    "nums = array('i',[0,0,1,1,1,2,2,3,3,4])  #pass any case you want to try\n",
    "class Solution:\n",
    "    def removeDuplicates(nums):\n",
    "        l=1\n",
    "        for r in range(1,len(nums)):\n",
    "            if(nums[r]!=nums[r-1]):\n",
    "                nums[l]=nums[r]\n",
    "                l+=1\n",
    "        return l\n",
    "    print(removeDuplicates(nums))"
   ]
  },
  {
   "cell_type": "code",
   "execution_count": null,
   "id": "90ee9232",
   "metadata": {},
   "outputs": [],
   "source": []
  }
 ],
 "metadata": {
  "kernelspec": {
   "display_name": "Python 3 (ipykernel)",
   "language": "python",
   "name": "python3"
  },
  "language_info": {
   "codemirror_mode": {
    "name": "ipython",
    "version": 3
   },
   "file_extension": ".py",
   "mimetype": "text/x-python",
   "name": "python",
   "nbconvert_exporter": "python",
   "pygments_lexer": "ipython3",
   "version": "3.9.12"
  }
 },
 "nbformat": 4,
 "nbformat_minor": 5
}
