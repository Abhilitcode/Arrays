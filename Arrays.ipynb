{
 "cells": [
  {
   "cell_type": "code",
   "execution_count": 11,
   "id": "1b625b8a",
   "metadata": {},
   "outputs": [],
   "source": [
    "from array import *"
   ]
  },
  {
   "cell_type": "code",
   "execution_count": 21,
   "id": "eae335e2",
   "metadata": {},
   "outputs": [
    {
     "name": "stdout",
     "output_type": "stream",
     "text": [
      "array('i', [5, 4, 6, 7, 2])\n"
     ]
    }
   ],
   "source": [
    "vals = array('i',[5,4,6,7,2])\n",
    "print(vals)\n"
   ]
  },
  {
   "cell_type": "code",
   "execution_count": 22,
   "id": "86344c60",
   "metadata": {},
   "outputs": [
    {
     "data": {
      "text/plain": [
       "(1838454380016, 5)"
      ]
     },
     "execution_count": 22,
     "metadata": {},
     "output_type": "execute_result"
    }
   ],
   "source": [
    "vals.buffer_info()  #address ,size"
   ]
  },
  {
   "cell_type": "code",
   "execution_count": 23,
   "id": "5d40315d",
   "metadata": {},
   "outputs": [],
   "source": [
    "vals.reverse()"
   ]
  },
  {
   "cell_type": "code",
   "execution_count": 24,
   "id": "d580518f",
   "metadata": {},
   "outputs": [
    {
     "name": "stdout",
     "output_type": "stream",
     "text": [
      "array('i', [2, 7, 6, 4, 5])\n"
     ]
    }
   ],
   "source": [
    "print(vals)"
   ]
  },
  {
   "cell_type": "code",
   "execution_count": 31,
   "id": "784b75f2",
   "metadata": {},
   "outputs": [
    {
     "name": "stdout",
     "output_type": "stream",
     "text": [
      "5\n",
      "5\n",
      "5\n",
      "5\n",
      "5\n"
     ]
    }
   ],
   "source": [
    "for i in range(len(vals)):\n",
    "    print(len(vals))"
   ]
  },
  {
   "cell_type": "code",
   "execution_count": 32,
   "id": "e070c1bb",
   "metadata": {},
   "outputs": [
    {
     "name": "stdout",
     "output_type": "stream",
     "text": [
      "2\n",
      "7\n",
      "6\n",
      "4\n",
      "5\n"
     ]
    }
   ],
   "source": [
    "i=0\n",
    "while(i<len(vals)):\n",
    "    print(vals[i])\n",
    "    i+=1"
   ]
  },
  {
   "cell_type": "code",
   "execution_count": 34,
   "id": "e5ae0e45",
   "metadata": {},
   "outputs": [
    {
     "name": "stdout",
     "output_type": "stream",
     "text": [
      "enter the no of values:5\n",
      "enter the value:2\n",
      "enter the value:3\n",
      "enter the value:4\n",
      "enter the value:5\n",
      "enter the value:6\n",
      "array('i', [2, 3, 4, 5, 6])\n"
     ]
    }
   ],
   "source": [
    "#ask user to input\n",
    "newArray = array('i',[])\n",
    "n = int(input(\"enter the no of values:\"))\n",
    "for i in range(n):\n",
    "    x = int(input(\"enter the value:\"))\n",
    "    newArray.append(x)\n",
    "print(newArray)\n",
    "    "
   ]
  },
  {
   "cell_type": "code",
   "execution_count": 36,
   "id": "f946cfcc",
   "metadata": {},
   "outputs": [
    {
     "name": "stdout",
     "output_type": "stream",
     "text": [
      "Enter the value to search:4\n",
      "2\n",
      "2\n"
     ]
    }
   ],
   "source": [
    "val = int(input(\"Enter the value to search:\"))\n",
    "k=0\n",
    "for e in newArray:\n",
    "    if e==val:\n",
    "        print(k)\n",
    "        print(newArray.index(val))\n",
    "        break\n",
    "    k+=1\n",
    "    "
   ]
  },
  {
   "cell_type": "code",
   "execution_count": null,
   "id": "7d3a830d",
   "metadata": {},
   "outputs": [],
   "source": []
  }
 ],
 "metadata": {
  "kernelspec": {
   "display_name": "Python 3 (ipykernel)",
   "language": "python",
   "name": "python3"
  },
  "language_info": {
   "codemirror_mode": {
    "name": "ipython",
    "version": 3
   },
   "file_extension": ".py",
   "mimetype": "text/x-python",
   "name": "python",
   "nbconvert_exporter": "python",
   "pygments_lexer": "ipython3",
   "version": "3.9.12"
  }
 },
 "nbformat": 4,
 "nbformat_minor": 5
}
